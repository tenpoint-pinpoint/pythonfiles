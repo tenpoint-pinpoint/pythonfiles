{
 "cells": [
  {
   "cell_type": "code",
   "execution_count": 1,
   "metadata": {},
   "outputs": [],
   "source": [
    "import numpy as np"
   ]
  },
  {
   "cell_type": "code",
   "execution_count": 2,
   "metadata": {},
   "outputs": [],
   "source": [
    "my_arr = np.arange(10000)\n",
    "my_list = list(range(10000))"
   ]
  },
  {
   "cell_type": "markdown",
   "metadata": {},
   "source": [
    "## 実行速度の違い"
   ]
  },
  {
   "cell_type": "code",
   "execution_count": 5,
   "metadata": {},
   "outputs": [
    {
     "name": "stdout",
     "output_type": "stream",
     "text": [
      "CPU times: user 375 µs, sys: 89 µs, total: 464 µs\n",
      "Wall time: 510 µs\n"
     ]
    }
   ],
   "source": [
    "# numpyを駆使した場合\n",
    "%time for _ in range(10) : my_arr2 = my_arr * 2"
   ]
  },
  {
   "cell_type": "code",
   "execution_count": 6,
   "metadata": {},
   "outputs": [
    {
     "name": "stdout",
     "output_type": "stream",
     "text": [
      "CPU times: user 6.62 ms, sys: 0 ns, total: 6.62 ms\n",
      "Wall time: 6.59 ms\n"
     ]
    }
   ],
   "source": [
    "# リスト内包表記を用いた場合\n",
    "%time for _ in range(10) : my_list_2 = [i * 2 for i in my_list]"
   ]
  },
  {
   "cell_type": "markdown",
   "metadata": {},
   "source": [
    "## ndarray = 多次元配列オブジェクト"
   ]
  },
  {
   "cell_type": "code",
   "execution_count": 8,
   "metadata": {},
   "outputs": [
    {
     "data": {
      "text/plain": [
       "array([[-9.42496694, -2.07680021,  0.17382428],\n",
       "       [-0.95911334,  2.32074871,  3.19714301]])"
      ]
     },
     "execution_count": 8,
     "metadata": {},
     "output_type": "execute_result"
    }
   ],
   "source": [
    "dat = np.random.randn(2, 3) # ２行3列の行列\n",
    "dat * 10"
   ]
  },
  {
   "cell_type": "code",
   "execution_count": 9,
   "metadata": {},
   "outputs": [
    {
     "data": {
      "text/plain": [
       "(2, 3)"
      ]
     },
     "execution_count": 9,
     "metadata": {},
     "output_type": "execute_result"
    }
   ],
   "source": [
    "dat.shape"
   ]
  },
  {
   "cell_type": "code",
   "execution_count": 13,
   "metadata": {},
   "outputs": [
    {
     "data": {
      "text/plain": [
       "(array([ 1,  2,  3,  4,  5,  6,  7,  8,  9, 10, 11, 12]),\n",
       " array([[ 1,  2,  3,  4,  5,  6],\n",
       "        [ 7,  8,  9, 10, 11, 12]]))"
      ]
     },
     "execution_count": 13,
     "metadata": {},
     "output_type": "execute_result"
    }
   ],
   "source": [
    "# ndarrayの生成\n",
    "data = [1,2,3,4,5,6,7,8,9,10,11,12]\n",
    "data2 = [[1,2,3,4,5,6],[7,8,9,10,11,12]]\n",
    "np.array(data) , np.array(data2) # 元のリストが配列なので２行1列になっている"
   ]
  },
  {
   "cell_type": "code",
   "execution_count": 20,
   "metadata": {},
   "outputs": [
    {
     "data": {
      "text/plain": [
       "array([[0., 0., 0.],\n",
       "       [0., 0., 0.],\n",
       "       [0., 0., 0.]])"
      ]
     },
     "execution_count": 20,
     "metadata": {},
     "output_type": "execute_result"
    }
   ],
   "source": [
    "np.zeros((3,3))"
   ]
  },
  {
   "cell_type": "code",
   "execution_count": 21,
   "metadata": {},
   "outputs": [
    {
     "data": {
      "text/plain": [
       "array([[1., 1., 1.],\n",
       "       [1., 1., 1.],\n",
       "       [1., 1., 1.]])"
      ]
     },
     "execution_count": 21,
     "metadata": {},
     "output_type": "execute_result"
    }
   ],
   "source": [
    "np.ones((3,3))"
   ]
  },
  {
   "cell_type": "code",
   "execution_count": 29,
   "metadata": {},
   "outputs": [
    {
     "data": {
      "text/plain": [
       "array([[1., 0., 0.],\n",
       "       [0., 1., 0.],\n",
       "       [0., 0., 1.]])"
      ]
     },
     "execution_count": 29,
     "metadata": {},
     "output_type": "execute_result"
    }
   ],
   "source": [
    "np.eye(3)"
   ]
  },
  {
   "cell_type": "code",
   "execution_count": 27,
   "metadata": {},
   "outputs": [
    {
     "data": {
      "text/plain": [
       "array([[1, 1, 1],\n",
       "       [1, 1, 1],\n",
       "       [1, 1, 1]])"
      ]
     },
     "execution_count": 27,
     "metadata": {},
     "output_type": "execute_result"
    }
   ],
   "source": [
    "np.full((3,3),1)"
   ]
  },
  {
   "cell_type": "code",
   "execution_count": 30,
   "metadata": {},
   "outputs": [
    {
     "data": {
      "text/plain": [
       "array([[1., 0., 0.],\n",
       "       [0., 1., 0.],\n",
       "       [0., 0., 1.]])"
      ]
     },
     "execution_count": 30,
     "metadata": {},
     "output_type": "execute_result"
    }
   ],
   "source": [
    "np.empty((3,3))"
   ]
  },
  {
   "cell_type": "code",
   "execution_count": 33,
   "metadata": {},
   "outputs": [
    {
     "data": {
      "text/plain": [
       "array([[1, 4],\n",
       "       [2, 5],\n",
       "       [3, 6]])"
      ]
     },
     "execution_count": 33,
     "metadata": {},
     "output_type": "execute_result"
    }
   ],
   "source": [
    "arr = np.array([[1,2,3],[4,5,6]])\n",
    "\n",
    "arr.T"
   ]
  },
  {
   "cell_type": "markdown",
   "metadata": {},
   "source": [
    "## ビューとスライスの関係をみる"
   ]
  },
  {
   "cell_type": "code",
   "execution_count": 38,
   "metadata": {},
   "outputs": [
    {
     "data": {
      "text/plain": [
       "array([ 0,  1,  2,  3,  4, 12, 12, 12,  8,  9])"
      ]
     },
     "execution_count": 38,
     "metadata": {},
     "output_type": "execute_result"
    }
   ],
   "source": [
    "arr = np.arange(10)\n",
    "arr[5:8] = 12\n",
    "arr_slice =arr[5:8]\n",
    "arr_slice\n",
    "arr_slice[1] = 123"
   ]
  },
  {
   "cell_type": "code",
   "execution_count": 42,
   "metadata": {},
   "outputs": [
    {
     "data": {
      "text/plain": [
       "array([  0,   1,   2,   3,   4,  12, 123,  12,   8,   9])"
      ]
     },
     "execution_count": 42,
     "metadata": {},
     "output_type": "execute_result"
    }
   ],
   "source": [
    "# 上セルの計算をした上でarrを呼び出すとどうなるか？\n",
    "arr\n",
    "# スライスは元のndarrayのビューなので、その変更は元のndarryであるarrに変更を加える。ビューは元のオブジェクトと同じメモリを使っている"
   ]
  },
  {
   "cell_type": "code",
   "execution_count": 45,
   "metadata": {},
   "outputs": [
    {
     "data": {
      "text/plain": [
       "array([ 0,  1,  2,  3,  4, 64, 64, 64,  8,  9])"
      ]
     },
     "execution_count": 45,
     "metadata": {},
     "output_type": "execute_result"
    }
   ],
   "source": [
    "# これはどうなるか？\n",
    "arr_slice[:] = 64\n",
    "arr"
   ]
  },
  {
   "cell_type": "code",
   "execution_count": 96,
   "metadata": {},
   "outputs": [
    {
     "data": {
      "text/plain": [
       "(6, 6)"
      ]
     },
     "execution_count": 96,
     "metadata": {},
     "output_type": "execute_result"
    }
   ],
   "source": [
    "# 二次元以上の配列の一部はインデックスで取得\n",
    "arr2 = np.array([[1,2,3],[4,5,6],[7,8,9]])\n",
    "arr2[1][2], arr2[1,2] # ←同じ意味を持つ"
   ]
  },
  {
   "cell_type": "code",
   "execution_count": 58,
   "metadata": {},
   "outputs": [],
   "source": [
    "arr = np.array([[[1,2,3],[4,5,6]],[[7,8,9],[10,11,12]]])"
   ]
  },
  {
   "cell_type": "code",
   "execution_count": 72,
   "metadata": {},
   "outputs": [],
   "source": [
    "old = arr[0].copy()"
   ]
  },
  {
   "cell_type": "code",
   "execution_count": 73,
   "metadata": {},
   "outputs": [],
   "source": [
    "arr[0] = 42"
   ]
  },
  {
   "cell_type": "code",
   "execution_count": 74,
   "metadata": {},
   "outputs": [
    {
     "data": {
      "text/plain": [
       "array([[[42, 42, 42],\n",
       "        [42, 42, 42]],\n",
       "\n",
       "       [[ 7,  8,  9],\n",
       "        [10, 11, 12]]])"
      ]
     },
     "execution_count": 74,
     "metadata": {},
     "output_type": "execute_result"
    }
   ],
   "source": [
    "arr"
   ]
  },
  {
   "cell_type": "code",
   "execution_count": 75,
   "metadata": {},
   "outputs": [
    {
     "data": {
      "text/plain": [
       "array([[[42, 42, 42],\n",
       "        [42, 42, 42]],\n",
       "\n",
       "       [[ 7,  8,  9],\n",
       "        [10, 11, 12]]])"
      ]
     },
     "execution_count": 75,
     "metadata": {},
     "output_type": "execute_result"
    }
   ],
   "source": [
    "arr[0] = old\n",
    "arr"
   ]
  },
  {
   "cell_type": "code",
   "execution_count": 100,
   "metadata": {},
   "outputs": [
    {
     "data": {
      "text/plain": [
       "array([[2, 3],\n",
       "       [5, 6]])"
      ]
     },
     "execution_count": 100,
     "metadata": {},
     "output_type": "execute_result"
    }
   ],
   "source": [
    "arr2[:2, 1:]"
   ]
  },
  {
   "cell_type": "code",
   "execution_count": 101,
   "metadata": {},
   "outputs": [
    {
     "data": {
      "text/plain": [
       "array([[1, 2, 3],\n",
       "       [4, 5, 6],\n",
       "       [7, 8, 9]])"
      ]
     },
     "execution_count": 101,
     "metadata": {},
     "output_type": "execute_result"
    }
   ],
   "source": [
    "arr2"
   ]
  },
  {
   "cell_type": "code",
   "execution_count": 105,
   "metadata": {},
   "outputs": [
    {
     "data": {
      "text/plain": [
       "(array([[0, 1, 2],\n",
       "        [3, 4, 5]]), array([[ 0,  2,  4],\n",
       "        [ 6,  8, 10]]))"
      ]
     },
     "execution_count": 105,
     "metadata": {},
     "output_type": "execute_result"
    }
   ],
   "source": [
    "arr1 = np.arange(6).reshape(2,3)\n",
    "arr2 = np.arange(0,12,2).reshape(2,3)\n",
    "\n",
    "arr1, arr2"
   ]
  },
  {
   "cell_type": "code",
   "execution_count": 107,
   "metadata": {},
   "outputs": [
    {
     "data": {
      "text/plain": [
       "array([[ 0,  1,  4],\n",
       "       [ 9, 16, 25]])"
      ]
     },
     "execution_count": 107,
     "metadata": {},
     "output_type": "execute_result"
    }
   ],
   "source": [
    "#　要素同士の積（アダマール積）\n",
    "np.multiply(arr1, arr1)"
   ]
  },
  {
   "cell_type": "code",
   "execution_count": 109,
   "metadata": {},
   "outputs": [
    {
     "data": {
      "text/plain": [
       "array([[ 5, 14],\n",
       "       [14, 50]])"
      ]
     },
     "execution_count": 109,
     "metadata": {},
     "output_type": "execute_result"
    }
   ],
   "source": [
    "# 行列の積\n",
    "np.dot(arr1, arr1.T)"
   ]
  },
  {
   "cell_type": "markdown",
   "metadata": {},
   "source": [
    "## ブールインデックス"
   ]
  },
  {
   "cell_type": "code",
   "execution_count": 168,
   "metadata": {},
   "outputs": [],
   "source": [
    "names = np.array(['Bob','Joe','Will','Bob','Will','Joe','Joe'])\n",
    "data = np.random.randn(7,4)"
   ]
  },
  {
   "cell_type": "code",
   "execution_count": 113,
   "metadata": {},
   "outputs": [
    {
     "data": {
      "text/plain": [
       "array([[-0.07774254,  0.40361286, -0.03694111, -0.45993999],\n",
       "       [ 0.0640871 ,  0.64925824,  0.59706988,  1.65452407]])"
      ]
     },
     "execution_count": 113,
     "metadata": {},
     "output_type": "execute_result"
    }
   ],
   "source": [
    "# dataからBobに対応する行を全て抜き出すことを考える（data = (7,4), names = (7,1)と考えて対応づける）\n",
    "names == 'Bob'\n",
    "# 上記でブーリアンが得られるのでこれを利用すると\n",
    "data[names == 'Bob']\n",
    "# Bobに該当する1行目と4行目が得られる"
   ]
  },
  {
   "cell_type": "code",
   "execution_count": 120,
   "metadata": {},
   "outputs": [
    {
     "data": {
      "text/plain": [
       "(array([[-0.07774254,  0.40361286, -0.03694111, -0.45993999],\n",
       "        [-0.87894774, -1.76700479, -0.8237066 , -0.4846586 ],\n",
       "        [ 0.69306129, -0.34795059,  0.41437573, -0.64242109],\n",
       "        [ 0.0640871 ,  0.64925824,  0.59706988,  1.65452407],\n",
       "        [ 0.26341956,  0.89639753,  1.87831497,  0.9118336 ],\n",
       "        [-0.21358277,  0.11163115,  0.46780135, -2.02386834],\n",
       "        [-0.97726135,  0.40491445, -1.50157574, -0.10364899]]),\n",
       " array([[-0.07774254,  0.40361286, -0.03694111, -0.45993999],\n",
       "        [ 0.0640871 ,  0.64925824,  0.59706988,  1.65452407]]))"
      ]
     },
     "execution_count": 120,
     "metadata": {},
     "output_type": "execute_result"
    }
   ],
   "source": [
    "# 確認\n",
    "data ,data[np.array([True, False, False, True, False, False, False])]"
   ]
  },
  {
   "cell_type": "code",
   "execution_count": 123,
   "metadata": {},
   "outputs": [
    {
     "data": {
      "text/plain": [
       "array([[-0.87894774, -1.76700479, -0.8237066 , -0.4846586 ],\n",
       "       [ 0.69306129, -0.34795059,  0.41437573, -0.64242109],\n",
       "       [ 0.26341956,  0.89639753,  1.87831497,  0.9118336 ],\n",
       "       [-0.21358277,  0.11163115,  0.46780135, -2.02386834],\n",
       "       [-0.97726135,  0.40491445, -1.50157574, -0.10364899]])"
      ]
     },
     "execution_count": 123,
     "metadata": {},
     "output_type": "execute_result"
    }
   ],
   "source": [
    "# 真偽値を逆転させると\n",
    "data[~(names == 'Bob')]\n",
    "# 2,3,5,6,7行目を得られる"
   ]
  },
  {
   "cell_type": "code",
   "execution_count": 127,
   "metadata": {},
   "outputs": [
    {
     "data": {
      "text/plain": [
       "(array([ True, False,  True,  True,  True, False, False]),\n",
       " array([[-0.07774254,  0.40361286, -0.03694111, -0.45993999],\n",
       "        [ 0.69306129, -0.34795059,  0.41437573, -0.64242109],\n",
       "        [ 0.0640871 ,  0.64925824,  0.59706988,  1.65452407],\n",
       "        [ 0.26341956,  0.89639753,  1.87831497,  0.9118336 ]]))"
      ]
     },
     "execution_count": 127,
     "metadata": {},
     "output_type": "execute_result"
    }
   ],
   "source": [
    "# or条件も可能\n",
    "mask = (names == 'Bob') | (names == 'Will')\n",
    "#　これを利用して\n",
    "mask, data[mask]\n",
    "# 1,3,4,行目を取得できる"
   ]
  },
  {
   "cell_type": "code",
   "execution_count": 166,
   "metadata": {},
   "outputs": [
    {
     "data": {
      "text/plain": [
       "array([[ 1.11663723, -1.94264611,  0.13023187,  0.8296026 ],\n",
       "       [-1.41291432, -0.74338995,  0.88099826, -0.01389589],\n",
       "       [-0.2625786 , -0.22526898, -2.15949209,  0.89284618],\n",
       "       [ 0.63975405,  1.1826284 , -0.98501288, -1.27296363],\n",
       "       [ 0.1019317 , -0.52284495,  1.04281303, -0.29674831],\n",
       "       [ 0.13377069,  0.35138525, -0.72696675,  0.00549667],\n",
       "       [-1.42580668,  0.78072826,  0.17251285,  0.23850331]])"
      ]
     },
     "execution_count": 166,
     "metadata": {},
     "output_type": "execute_result"
    }
   ],
   "source": [
    "copied = data[mask]\n",
    "copied[2] = 10\n",
    "data"
   ]
  },
  {
   "cell_type": "code",
   "execution_count": 155,
   "metadata": {},
   "outputs": [
    {
     "data": {
      "text/plain": [
       "0.5357142857142857"
      ]
     },
     "execution_count": 155,
     "metadata": {},
     "output_type": "execute_result"
    }
   ],
   "source": [
    "# 正規乱数のプラスマイナスの割合を計算してみる\n",
    "np.count_nonzero(data > 0) / (data.shape[0] * data.shape[1])"
   ]
  },
  {
   "cell_type": "code",
   "execution_count": 181,
   "metadata": {},
   "outputs": [
    {
     "name": "stdout",
     "output_type": "stream",
     "text": [
      "[[ 0.59504503 -1.6355428   0.90165429  0.08369053]\n",
      " [-0.11954134  1.82939008  1.90643316 -0.76000129]\n",
      " [ 1.84816871 -0.24611251  1.98819217 -2.48625651]\n",
      " [ 1.18479438  0.97854189  1.21945247 -0.2118371 ]\n",
      " [-0.48062726  0.29469582  0.7041288  -0.14499187]\n",
      " [-0.05968341  0.45724085 -0.59119305  0.88106156]\n",
      " [-0.20553894 -0.07346129  0.38392512  0.25005995]\n",
      " [ 0.71351939  0.12639562  0.40506234 -1.59270735]]\n"
     ]
    }
   ],
   "source": [
    "arr3 = np.random.randn(8,4)\n",
    "print(arr3)"
   ]
  },
  {
   "cell_type": "code",
   "execution_count": 182,
   "metadata": {},
   "outputs": [
    {
     "data": {
      "text/plain": [
       "array([-0.11954134,  1.82939008,  1.90643316, -0.76000129])"
      ]
     },
     "execution_count": 182,
     "metadata": {},
     "output_type": "execute_result"
    }
   ],
   "source": [
    "arr3[1]"
   ]
  },
  {
   "cell_type": "code",
   "execution_count": 186,
   "metadata": {},
   "outputs": [
    {
     "data": {
      "text/plain": [
       "array([[ 0.,  1.,  2.,  3.],\n",
       "       [ 1.,  2.,  3.,  4.],\n",
       "       [ 2.,  3.,  4.,  5.],\n",
       "       [ 3.,  4.,  5.,  6.],\n",
       "       [ 4.,  5.,  6.,  7.],\n",
       "       [ 5.,  6.,  7.,  8.],\n",
       "       [ 6.,  7.,  8.,  9.],\n",
       "       [ 7.,  8.,  9., 10.]])"
      ]
     },
     "execution_count": 186,
     "metadata": {},
     "output_type": "execute_result"
    }
   ],
   "source": [
    "for i in range(8):\n",
    "    for j in range(4):\n",
    "        arr3[i][j] = i + j\n",
    "arr3"
   ]
  },
  {
   "cell_type": "markdown",
   "metadata": {},
   "source": [
    "## ファンシーインデックス = インデックス参照に整数配列を使う"
   ]
  },
  {
   "cell_type": "code",
   "execution_count": 228,
   "metadata": {},
   "outputs": [
    {
     "name": "stdout",
     "output_type": "stream",
     "text": [
      "[[16 17 18 19]\n",
      " [12 13 14 15]\n",
      " [ 0  1  2  3]\n",
      " [24 25 26 27]]\n",
      "(4, 4)\n",
      "[[28 29 30 31]\n",
      " [24 25 26 27]]\n"
     ]
    }
   ],
   "source": [
    "\n",
    "print(arr3[[4,3,0,6]])\n",
    "# 上記で5,4,1,7行目を順に取得している\n",
    "print(arr3[[4,3,0,6]].shape)\n",
    "# 負数のインデックスをつける\n",
    "print(arr3[[-1,-2]])"
   ]
  },
  {
   "cell_type": "code",
   "execution_count": 203,
   "metadata": {},
   "outputs": [
    {
     "name": "stdout",
     "output_type": "stream",
     "text": [
      "[[ 0  1  2  3]\n",
      " [ 4  5  6  7]\n",
      " [ 8  9 10 11]\n",
      " [12 13 14 15]\n",
      " [16 17 18 19]\n",
      " [20 21 22 23]\n",
      " [24 25 26 27]\n",
      " [28 29 30 31]]\n",
      "\n",
      "以下だと部分行列の行と列を入れ替えたものが出力されそう\n",
      "最初の[0,2,4,6]はarr3のインデックスで行を取得、次の[3,2,1,0]は取得した行の対応する要素を取得、例：(0,0)なので0行目3列目の値=0を取得\n",
      "[ 0 11 17 26]\n",
      "\n",
      "部分行列の行と列を入れ替えたものは以下の通り\n",
      "[[ 0  3  1  2]\n",
      " [ 8 11  9 10]\n",
      " [16 19 17 18]\n",
      " [24 27 25 26]]\n"
     ]
    }
   ],
   "source": [
    "# 複数のインデックスr配列をつける場合\n",
    "arr3 = np.arange(32).reshape((8,4))\n",
    "print(arr3)\n",
    "print('')\n",
    "print('以下だと部分行列の行と列を入れ替えたものが出力されそう')\n",
    "print('最初の[0,2,4,6]はarr3のインデックスで行を取得、次の[3,2,1,0]は取得した行の対応する要素を取得、例：(0,0)なので0行目3列目の値=0を取得')\n",
    "print(arr3[[0,2,4,6],[0,3,1,2]])\n",
    "print('')\n",
    "print('部分行列の行と列を入れ替えたものは以下の通り')\n",
    "print(arr3[[0,2,4,6]][:,[0,3,1,2]])"
   ]
  },
  {
   "cell_type": "code",
   "execution_count": 227,
   "metadata": {},
   "outputs": [
    {
     "name": "stdout",
     "output_type": "stream",
     "text": [
      "[[ 4  5  6  7]\n",
      " [20 21 22 23]\n",
      " [28 29 30 31]\n",
      " [ 8  9 10 11]]\n",
      "[[ 4  5  6  7]\n",
      " [20 21 22 23]\n",
      " [28 29 30 31]\n",
      " [ 8  9 10 11]]\n",
      "[ 6 22 30 10]\n",
      "[[ 4  7  5  6]\n",
      " [20 23 21 22]\n",
      " [28 31 29 30]\n",
      " [ 8 11  9 10]]\n"
     ]
    }
   ],
   "source": [
    "print(arr3[[1,5,7,2]]) # インデックスで行取得\n",
    "print(arr3[[1,5,7,2]][:]) # インデックスで行取得,全列取得\n",
    "print(arr3[[1,5,7,2]][:,2]) #インデックスで取得、全列取得,うち３要素目だけ取得\n",
    "print(arr3[[1,5,7,2]][:,[0,3,1,2]]) #インデックスで取得、全列取得,要素を入れ替えて取得するために要素の順番を指定したリストを要素引数に渡す\n",
    "# 最後の[0,3,1,2]がファンシーインデックス"
   ]
  },
  {
   "cell_type": "markdown",
   "metadata": {},
   "source": [
    "## 転置行列"
   ]
  },
  {
   "cell_type": "code",
   "execution_count": 231,
   "metadata": {},
   "outputs": [
    {
     "name": "stdout",
     "output_type": "stream",
     "text": [
      "(3, 5)\n",
      "(5, 3)\n"
     ]
    }
   ],
   "source": [
    "arr = np.arange(15).reshape((3,5))\n",
    "print(arr.shape)\n",
    "print(arr.T.shape)"
   ]
  },
  {
   "cell_type": "code",
   "execution_count": 254,
   "metadata": {},
   "outputs": [
    {
     "name": "stdout",
     "output_type": "stream",
     "text": [
      "[[ 0  1  2  3]\n",
      " [ 4  5  6  7]\n",
      " [ 8  9 10 11]\n",
      " [12 13 14 15]\n",
      " [16 17 18 19]\n",
      " [20 21 22 23]]\n",
      "----------\n",
      "[[ 0  4  8 12 16 20]\n",
      " [ 1  5  9 13 17 21]\n",
      " [ 2  6 10 14 18 22]\n",
      " [ 3  7 11 15 19 23]]\n",
      "----------\n",
      "[[ 0  4  8 12 16 20]\n",
      " [ 1  5  9 13 17 21]\n",
      " [ 2  6 10 14 18 22]\n",
      " [ 3  7 11 15 19 23]]\n",
      "----------\n",
      "[[ 0  4  8 12 16 20]\n",
      " [ 1  5  9 13 17 21]\n",
      " [ 2  6 10 14 18 22]\n",
      " [ 3  7 11 15 19 23]]\n",
      "----------\n",
      "[[ 0  1  2  3]\n",
      " [ 4  5  6  7]\n",
      " [ 8  9 10 11]\n",
      " [12 13 14 15]\n",
      " [16 17 18 19]\n",
      " [20 21 22 23]]\n"
     ]
    }
   ],
   "source": [
    "# ２次元配列の場合\n",
    "arr = np.arange(24).reshape((6,4)) \n",
    "print(arr)\n",
    "print('--------------------')\n",
    "print(arr.T)\n",
    "print('--------------------')\n",
    "print(arr.transpose())  #単なる転置-->shapeは(4,6)になる。\n",
    "print('--------------------')\n",
    "print(arr.transpose((1,0)))  #転置後の軸を(２軸目,1軸目)に指定-->つまり行列の転換なので通常の転置\n",
    "print('--------------------')\n",
    "print(arr.transpose((0,1)))  #転置後の軸を(1軸目、２軸目)に指定-->つまり行列を入れ替えていないので元の行列のまま"
   ]
  },
  {
   "cell_type": "code",
   "execution_count": 255,
   "metadata": {},
   "outputs": [
    {
     "name": "stdout",
     "output_type": "stream",
     "text": [
      "[[[ 0  1  2  3]\n",
      "  [ 4  5  6  7]\n",
      "  [ 8  9 10 11]]\n",
      "\n",
      " [[12 13 14 15]\n",
      "  [16 17 18 19]\n",
      "  [20 21 22 23]]]\n",
      "--------------------\n",
      "[[[ 0 12]\n",
      "  [ 4 16]\n",
      "  [ 8 20]]\n",
      "\n",
      " [[ 1 13]\n",
      "  [ 5 17]\n",
      "  [ 9 21]]\n",
      "\n",
      " [[ 2 14]\n",
      "  [ 6 18]\n",
      "  [10 22]]\n",
      "\n",
      " [[ 3 15]\n",
      "  [ 7 19]\n",
      "  [11 23]]]\n",
      "--------------------\n",
      "[[[ 0 12]\n",
      "  [ 4 16]\n",
      "  [ 8 20]]\n",
      "\n",
      " [[ 1 13]\n",
      "  [ 5 17]\n",
      "  [ 9 21]]\n",
      "\n",
      " [[ 2 14]\n",
      "  [ 6 18]\n",
      "  [10 22]]\n",
      "\n",
      " [[ 3 15]\n",
      "  [ 7 19]\n",
      "  [11 23]]]\n",
      "--------------------\n",
      "[[[ 0 12]\n",
      "  [ 4 16]\n",
      "  [ 8 20]]\n",
      "\n",
      " [[ 1 13]\n",
      "  [ 5 17]\n",
      "  [ 9 21]]\n",
      "\n",
      " [[ 2 14]\n",
      "  [ 6 18]\n",
      "  [10 22]]\n",
      "\n",
      " [[ 3 15]\n",
      "  [ 7 19]\n",
      "  [11 23]]]\n",
      "--------------------\n",
      "[[[ 0  1  2  3]\n",
      "  [ 4  5  6  7]\n",
      "  [ 8  9 10 11]]\n",
      "\n",
      " [[12 13 14 15]\n",
      "  [16 17 18 19]\n",
      "  [20 21 22 23]]]\n",
      "--------------------\n",
      "[[[ 0  4  8]\n",
      "  [12 16 20]]\n",
      "\n",
      " [[ 1  5  9]\n",
      "  [13 17 21]]\n",
      "\n",
      " [[ 2  6 10]\n",
      "  [14 18 22]]\n",
      "\n",
      " [[ 3  7 11]\n",
      "  [15 19 23]]]\n"
     ]
    }
   ],
   "source": [
    "# 3次元配列の場合\n",
    "arr = np.arange(24).reshape((2,3,4)) \n",
    "print(arr)\n",
    "print('--------------------')\n",
    "print(arr.T)\n",
    "print('--------------------')\n",
    "print(arr.transpose()) #単なる転置-->shapeは(4,3,2)になる。.Tと同じ結果\n",
    "print('--------------------')\n",
    "print(arr.transpose((2,1,0))) #転置後の軸を(3軸目,２軸目,1軸目)に指定-->つまり行列の転換なので通常の転置\n",
    "print('--------------------')\n",
    "print(arr.transpose((0,1,2)))  #転置後の軸を(1軸目,2軸目,3軸目)に指定-->つまり行列を入れ替えていないので元の行列のまま\n",
    "print('--------------------')\n",
    "print(arr.transpose((2,0,1)))  #転置後の軸を(3軸目,1軸目,2軸目)に指定-->特殊な転置"
   ]
  },
  {
   "cell_type": "code",
   "execution_count": 260,
   "metadata": {},
   "outputs": [
    {
     "name": "stdout",
     "output_type": "stream",
     "text": [
      "[[[ 0  1  2  3]\n",
      "  [ 4  5  6  7]\n",
      "  [ 8  9 10 11]]\n",
      "\n",
      " [[12 13 14 15]\n",
      "  [16 17 18 19]\n",
      "  [20 21 22 23]]]\n",
      "--------------------\n",
      "[[[ 0 12]\n",
      "  [ 4 16]\n",
      "  [ 8 20]]\n",
      "\n",
      " [[ 1 13]\n",
      "  [ 5 17]\n",
      "  [ 9 21]]\n",
      "\n",
      " [[ 2 14]\n",
      "  [ 6 18]\n",
      "  [10 22]]\n",
      "\n",
      " [[ 3 15]\n",
      "  [ 7 19]\n",
      "  [11 23]]]\n",
      "--------------------\n",
      "[[[ 0 12]\n",
      "  [ 4 16]\n",
      "  [ 8 20]]\n",
      "\n",
      " [[ 1 13]\n",
      "  [ 5 17]\n",
      "  [ 9 21]]\n",
      "\n",
      " [[ 2 14]\n",
      "  [ 6 18]\n",
      "  [10 22]]\n",
      "\n",
      " [[ 3 15]\n",
      "  [ 7 19]\n",
      "  [11 23]]]\n"
     ]
    }
   ],
   "source": [
    "# swapaxesは軸の入れ替えを直接指示\n",
    "arr = np.arange(24).reshape((2,3,4)) \n",
    "print(arr)\n",
    "print('--------------------')\n",
    "print(arr.transpose((2,1,0))) #転置後の軸を(3軸目,２軸目,1軸目)に指定-->つまり行列の転換なので通常の転置\n",
    "print('--------------------')\n",
    "print(arr.swapaxes(0,2)) # １軸目と3軸目を入れ替え。上と同じになる。"
   ]
  },
  {
   "cell_type": "markdown",
   "metadata": {},
   "source": [
    "## ユニバーサル関数"
   ]
  },
  {
   "cell_type": "code",
   "execution_count": 261,
   "metadata": {},
   "outputs": [],
   "source": [
    "arr = np.arange(10)"
   ]
  },
  {
   "cell_type": "code",
   "execution_count": 270,
   "metadata": {},
   "outputs": [
    {
     "name": "stdout",
     "output_type": "stream",
     "text": [
      "[0.         1.         1.41421356 1.73205081 2.         2.23606798\n",
      " 2.44948974 2.64575131 2.82842712 3.        ]\n",
      "[1.00000000e+00 2.71828183e+00 7.38905610e+00 2.00855369e+01\n",
      " 5.45981500e+01 1.48413159e+02 4.03428793e+02 1.09663316e+03\n",
      " 2.98095799e+03 8.10308393e+03]\n",
      "[      -inf 0.         0.69314718 1.09861229 1.38629436 1.60943791\n",
      " 1.79175947 1.94591015 2.07944154 2.19722458]\n",
      "[0.         0.69314718 1.09861229 1.38629436 1.60943791 1.79175947\n",
      " 1.94591015 2.07944154 2.19722458 2.30258509]\n"
     ]
    },
    {
     "name": "stderr",
     "output_type": "stream",
     "text": [
      "/opt/anaconda3/lib/python3.7/site-packages/ipykernel_launcher.py:4: RuntimeWarning: divide by zero encountered in log\n",
      "  after removing the cwd from sys.path.\n"
     ]
    }
   ],
   "source": [
    "# 要素後ごとに基本的な計算処理をする\n",
    "print(np.sqrt(arr)) # 平方根\n",
    "print(np.exp(arr)) # e^x\n",
    "print(np.log(arr)) # 自然対数\n",
    "print(np.log1p(arr)) # 要素に1を加えて自然対数をとったもの\n"
   ]
  },
  {
   "cell_type": "code",
   "execution_count": 268,
   "metadata": {},
   "outputs": [
    {
     "name": "stdout",
     "output_type": "stream",
     "text": [
      "[-1.58991445  0.78773017 -0.86809597 -0.85116967 -0.35840879 -0.26787018\n",
      "  0.21516642  0.73632581]\n",
      "[ 1.45824057 -1.57202395  2.22778931  0.2571319   1.55626622  0.60255408\n",
      " -0.02450423  0.74603759]\n",
      "[1.45824057 0.78773017 2.22778931 0.2571319  1.55626622 0.60255408\n",
      " 0.21516642 0.74603759]\n"
     ]
    }
   ],
   "source": [
    "# 2つのndarrayを引数に演算する２項ufnc\n",
    "arr1 = np.random.randn(8)\n",
    "arr2 = np.random.randn(8)\n",
    "print(arr1)\n",
    "print(arr2)\n",
    "print(np.maximum(arr1, arr2)) # arr1とarr2の要素を比べ、大きい方を取得している"
   ]
  },
  {
   "cell_type": "markdown",
   "metadata": {},
   "source": [
    "## 配列指向プログラミング"
   ]
  },
  {
   "cell_type": "code",
   "execution_count": 277,
   "metadata": {},
   "outputs": [
    {
     "name": "stdout",
     "output_type": "stream",
     "text": [
      "(1000,)\n"
     ]
    },
    {
     "data": {
      "text/plain": [
       "(array([[-5.  , -4.99, -4.98, ...,  4.97,  4.98,  4.99],\n",
       "        [-5.  , -4.99, -4.98, ...,  4.97,  4.98,  4.99],\n",
       "        [-5.  , -4.99, -4.98, ...,  4.97,  4.98,  4.99],\n",
       "        ...,\n",
       "        [-5.  , -4.99, -4.98, ...,  4.97,  4.98,  4.99],\n",
       "        [-5.  , -4.99, -4.98, ...,  4.97,  4.98,  4.99],\n",
       "        [-5.  , -4.99, -4.98, ...,  4.97,  4.98,  4.99]]),\n",
       " array([[-5.  , -5.  , -5.  , ..., -5.  , -5.  , -5.  ],\n",
       "        [-4.99, -4.99, -4.99, ..., -4.99, -4.99, -4.99],\n",
       "        [-4.98, -4.98, -4.98, ..., -4.98, -4.98, -4.98],\n",
       "        ...,\n",
       "        [ 4.97,  4.97,  4.97, ...,  4.97,  4.97,  4.97],\n",
       "        [ 4.98,  4.98,  4.98, ...,  4.98,  4.98,  4.98],\n",
       "        [ 4.99,  4.99,  4.99, ...,  4.99,  4.99,  4.99]]))"
      ]
     },
     "execution_count": 277,
     "metadata": {},
     "output_type": "execute_result"
    }
   ],
   "source": [
    "points = np.arange(-5, 5, 0.01)\n",
    "print(points.shape) # 1000次元ベクトル\n",
    "x, y = np.meshgrid(points, points) # 1000*1000の格子点ができる\n",
    "x, y # x,yの組み合わせによって任意の座標となる"
   ]
  },
  {
   "cell_type": "code",
   "execution_count": 278,
   "metadata": {},
   "outputs": [],
   "source": [
    "import matplotlib.pyplot as plt"
   ]
  },
  {
   "cell_type": "code",
   "execution_count": 282,
   "metadata": {},
   "outputs": [
    {
     "data": {
      "text/plain": [
       "Text(0.5, 1.0, 'Image $\\\\sqrt{x^2+y^2}$ for a grid of values')"
      ]
     },
     "execution_count": 282,
     "metadata": {},
     "output_type": "execute_result"
    },
    {
     "data": {
      "image/png": "[encoded data removed]",
      "text/plain": [
       "<Figure size 432x288 with 2 Axes>"
      ]
     },
     "metadata": {
      "needs_background": "light"
     },
     "output_type": "display_data"
    }
   ],
   "source": [
    "z = np.sqrt(x**2 + y**2)\n",
    "plt.imshow(z, cmap=plt.cm.gray); plt.colorbar()\n",
    "plt.title('Image $\\sqrt{x^2+y^2}$ for a grid of values')"
   ]
  },
  {
   "cell_type": "markdown",
   "metadata": {},
   "source": [
    "## 条件制御"
   ]
  },
  {
   "cell_type": "code",
   "execution_count": 304,
   "metadata": {},
   "outputs": [],
   "source": [
    "xarr = np.array([1.1,1.2,1.3,1.4,1.5])\n",
    "yarr = xarr + 1\n",
    "cond = np.array([1,2,3,4,5])"
   ]
  },
  {
   "cell_type": "code",
   "execution_count": 293,
   "metadata": {},
   "outputs": [
    {
     "data": {
      "text/plain": [
       "[1.1, 2.2, 1.3, 1.4, 2.5]"
      ]
     },
     "execution_count": 293,
     "metadata": {},
     "output_type": "execute_result"
    }
   ],
   "source": [
    "# condがTrueならxarrの要素、Falseならyarrの要素を取得したい\n",
    "result = [i if k else j for i, j, k in zip(xarr, yarr, cond)]\n",
    "result\n",
    "#　この方法は配列が大きくなった時に非効率"
   ]
  },
  {
   "cell_type": "code",
   "execution_count": 305,
   "metadata": {},
   "outputs": [
    {
     "data": {
      "text/plain": [
       "array([[1.1, 2.2, 1.3, 2.4, 1.5]])"
      ]
     },
     "execution_count": 305,
     "metadata": {},
     "output_type": "execute_result"
    }
   ],
   "source": [
    "# 高速な方法\n",
    "result = np.where([cond % 2 != 0], xarr, yarr) # 引数が(条件、Trueのとき、Falseのとき)\n",
    "result"
   ]
  },
  {
   "cell_type": "code",
   "execution_count": 310,
   "metadata": {},
   "outputs": [
    {
     "data": {
      "text/plain": [
       "array([[1, 0, 1, 0, 1]])"
      ]
     },
     "execution_count": 310,
     "metadata": {},
     "output_type": "execute_result"
    }
   ],
   "source": [
    "# こんなことも\n",
    "np.where([cond % 2 != 0], 1, 0)"
   ]
  },
  {
   "cell_type": "markdown",
   "metadata": {},
   "source": [
    "## 数学関数、統計関数"
   ]
  },
  {
   "cell_type": "code",
   "execution_count": 313,
   "metadata": {},
   "outputs": [
    {
     "data": {
      "text/plain": [
       "array([[-1.63201682, -1.3703389 ,  0.8756901 ,  0.76410134],\n",
       "       [ 0.50922298,  0.40017759,  0.94552207,  0.61099804],\n",
       "       [ 1.15261224, -0.27727553, -0.41663407, -0.18357975],\n",
       "       [ 0.36398976,  0.93171038,  0.28088952,  1.44663903],\n",
       "       [-0.9971754 , -0.10545982,  0.46579115, -0.87653242]])"
      ]
     },
     "execution_count": 313,
     "metadata": {},
     "output_type": "execute_result"
    }
   ],
   "source": [
    "arr = np.random.randn(5,4)\n",
    "arr"
   ]
  },
  {
   "cell_type": "code",
   "execution_count": 319,
   "metadata": {},
   "outputs": [
    {
     "name": "stdout",
     "output_type": "stream",
     "text": [
      "0.14441657591651585\n",
      "0.14441657591651585\n"
     ]
    }
   ],
   "source": [
    "# 同じ\n",
    "print(np.mean(arr))\n",
    "print(arr.mean())"
   ]
  },
  {
   "cell_type": "code",
   "execution_count": 318,
   "metadata": {},
   "outputs": [
    {
     "name": "stdout",
     "output_type": "stream",
     "text": [
      "2.8883315183303173\n",
      "2.8883315183303173\n"
     ]
    }
   ],
   "source": [
    "# 同じ\n",
    "print(np.sum(arr))\n",
    "print(arr.sum())"
   ]
  },
  {
   "cell_type": "code",
   "execution_count": 348,
   "metadata": {},
   "outputs": [
    {
     "name": "stdout",
     "output_type": "stream",
     "text": [
      "列方向（各行の同じ列ごと）の平均 [-0.12067345 -0.08423725  0.43025175  0.35232525]\n",
      "行方向（各列の同じ行ごと）の平均 [-0.34064107  0.61648017  0.06878072  0.75580717 -0.37834412]\n"
     ]
    }
   ],
   "source": [
    "# 軸を指定して計算できる\n",
    "print('列方向（各行の同じ列ごと）の平均', arr.mean(axis = 0)) # 元の行列が（5,4）　なので、要素は4つ\n",
    "print('行方向（各列の同じ行ごと）の平均', arr.mean(axis = 1)) # 元の行列が（5,4）　なので、要素は5つ"
   ]
  },
  {
   "cell_type": "code",
   "execution_count": 364,
   "metadata": {},
   "outputs": [
    {
     "name": "stdout",
     "output_type": "stream",
     "text": [
      "[1 2 3 4 5 6 7]\n",
      "累積和 [ 1  3  6 10 15 21 28]\n",
      "累積積 [   1    2    6   24  120  720 5040]\n"
     ]
    }
   ],
   "source": [
    "# 累積和や累積積\n",
    "arr2 = np.array(np.arange(1, 8))\n",
    "print(arr2)\n",
    "print('累積和', arr2.cumsum()) \n",
    "print('累積積', arr2.cumprod())"
   ]
  },
  {
   "cell_type": "code",
   "execution_count": 369,
   "metadata": {},
   "outputs": [
    {
     "name": "stdout",
     "output_type": "stream",
     "text": [
      "[[1 2 3]\n",
      " [4 5 6]\n",
      " [7 8 9]]\n",
      "列累積和 [[ 1  2  3]\n",
      " [ 5  7  9]\n",
      " [12 15 18]]\n",
      "行累積和 [[ 1  3  6]\n",
      " [ 4  9 15]\n",
      " [ 7 15 24]]\n"
     ]
    }
   ],
   "source": [
    "# axisの指定も可能\n",
    "arr3 = np.array([np.arange(1, 4),np.arange(4, 7),np.arange(7, 10)])\n",
    "print(arr3)\n",
    "print('列累積和', arr3.cumsum(axis = 0)) \n",
    "print('行累積和', arr3.cumsum(axis = 1)) "
   ]
  },
  {
   "cell_type": "markdown",
   "metadata": {},
   "source": [
    "## 真偽値配列関数"
   ]
  },
  {
   "cell_type": "code",
   "execution_count": 374,
   "metadata": {},
   "outputs": [
    {
     "name": "stdout",
     "output_type": "stream",
     "text": [
      "正の値の個数 =  54\n",
      "負の値の個数 =  46\n"
     ]
    }
   ],
   "source": [
    "# True=1,False=0となることを利用する\n",
    "arr = np.random.randn(100)\n",
    "print('正の値の個数 = ', (arr > 0).sum())\n",
    "print('負の値の個数 = ', (arr < 0).sum())"
   ]
  },
  {
   "cell_type": "code",
   "execution_count": 376,
   "metadata": {},
   "outputs": [
    {
     "name": "stdout",
     "output_type": "stream",
     "text": [
      "True\n",
      "False\n"
     ]
    }
   ],
   "source": [
    "# any = 1つでもTrueが歩かないか、all = 全てTrueかどうか\n",
    "print((arr > 0).any()) \n",
    "print((arr > 0).all())"
   ]
  },
  {
   "cell_type": "markdown",
   "metadata": {},
   "source": [
    "## ソート"
   ]
  },
  {
   "cell_type": "code",
   "execution_count": 394,
   "metadata": {},
   "outputs": [
    {
     "data": {
      "text/plain": [
       "array([-1.66532975, -0.96752704, -0.7463735 , -0.31404279,  0.00680674])"
      ]
     },
     "execution_count": 394,
     "metadata": {},
     "output_type": "execute_result"
    }
   ],
   "source": [
    "# １次元の場合はシンプルなソート\n",
    "arr1 = np.random.randn(5)\n",
    "arr1.sort()\n",
    "arr1"
   ]
  },
  {
   "cell_type": "code",
   "execution_count": 398,
   "metadata": {},
   "outputs": [
    {
     "data": {
      "text/plain": [
       "array([[ 0.57325269,  1.30978664,  0.72386596],\n",
       "       [-0.30980055, -0.43285278, -0.1299019 ],\n",
       "       [-0.10844082,  1.51353158,  0.36201386],\n",
       "       [ 1.34620429,  1.1033358 , -0.57210311],\n",
       "       [-1.33287487,  0.3955701 , -0.64482598]])"
      ]
     },
     "execution_count": 398,
     "metadata": {},
     "output_type": "execute_result"
    }
   ],
   "source": [
    "# ２次元以上の場合には任意の軸でソート可能\n",
    "arr = np.random.randn(5,3)\n",
    "arr"
   ]
  },
  {
   "cell_type": "code",
   "execution_count": 396,
   "metadata": {},
   "outputs": [
    {
     "data": {
      "text/plain": [
       "array([[-1.20738289,  0.53512937,  1.12608104],\n",
       "       [-1.67610795,  0.19590571,  2.27028115],\n",
       "       [-0.60153138, -0.17617725,  1.93876838],\n",
       "       [-0.97396901, -0.82369046, -0.69385185],\n",
       "       [-1.02065041, -0.6956324 ,  0.25853972]])"
      ]
     },
     "execution_count": 396,
     "metadata": {},
     "output_type": "execute_result"
    }
   ],
   "source": [
    "arr.sort(axis=1) # 行方向でソート\n",
    "arr"
   ]
  },
  {
   "cell_type": "code",
   "execution_count": 399,
   "metadata": {},
   "outputs": [
    {
     "data": {
      "text/plain": [
       "array([[-1.33287487, -0.43285278, -0.64482598],\n",
       "       [-0.30980055,  0.3955701 , -0.57210311],\n",
       "       [-0.10844082,  1.1033358 , -0.1299019 ],\n",
       "       [ 0.57325269,  1.30978664,  0.36201386],\n",
       "       [ 1.34620429,  1.51353158,  0.72386596]])"
      ]
     },
     "execution_count": 399,
     "metadata": {},
     "output_type": "execute_result"
    }
   ],
   "source": [
    "arr.sort(axis=0) # 列方向でソート\n",
    "arr"
   ]
  },
  {
   "cell_type": "code",
   "execution_count": 408,
   "metadata": {},
   "outputs": [
    {
     "data": {
      "text/plain": [
       "-1.6318543451596328"
      ]
     },
     "execution_count": 408,
     "metadata": {},
     "output_type": "execute_result"
    }
   ],
   "source": [
    "# 5%点を取得することを考える\n",
    "lange = np.random.randn(10000)\n",
    "lange.sort()\n",
    "lange[int(0.05 * len(lange))]"
   ]
  },
  {
   "cell_type": "code",
   "execution_count": 416,
   "metadata": {},
   "outputs": [
    {
     "name": "stdout",
     "output_type": "stream",
     "text": [
      "<class 'set'> <class 'list'>\n",
      "<class 'set'>\n"
     ]
    }
   ],
   "source": [
    "# 集合（set）のおさらい\n",
    "names = ['Bob', 'Will', 'Smith', 'Will', 'Smith', 'Adam']\n",
    "print(type(set(names)), type(names))\n",
    "names2 = {'B','A','C','B','C'}\n",
    "print(type(names2))"
   ]
  },
  {
   "cell_type": "code",
   "execution_count": 433,
   "metadata": {},
   "outputs": [],
   "source": [
    "# 行列計算モジュールのインポート\n",
    "from numpy.linalg import inv, qr"
   ]
  },
  {
   "cell_type": "code",
   "execution_count": 434,
   "metadata": {},
   "outputs": [],
   "source": [
    "X = np.random.randn(5,5)"
   ]
  },
  {
   "cell_type": "code",
   "execution_count": 436,
   "metadata": {},
   "outputs": [
    {
     "data": {
      "text/plain": [
       "array([[ 5.1197193 , -2.84039127,  2.59947169, -0.40233949, -0.20669241],\n",
       "       [-2.84039127,  2.66734515,  0.2376354 ,  0.95533676,  0.96648744],\n",
       "       [ 2.59947169,  0.2376354 ,  4.47909484,  1.98073531, -0.45225269],\n",
       "       [-0.40233949,  0.95533676,  1.98073531,  5.80270506, -0.47342494],\n",
       "       [-0.20669241,  0.96648744, -0.45225269, -0.47342494,  7.85754175]])"
      ]
     },
     "execution_count": 436,
     "metadata": {},
     "output_type": "execute_result"
    }
   ],
   "source": [
    "mat = np.dot(X.T, X)\n",
    "mat"
   ]
  },
  {
   "cell_type": "code",
   "execution_count": 448,
   "metadata": {},
   "outputs": [
    {
     "data": {
      "text/plain": [
       "array([[ 31.87384342,  36.40022639, -22.45200231,   3.49601174,\n",
       "         -4.72045338],\n",
       "       [ 36.40022639,  41.99135673, -25.63487234,   3.91654091,\n",
       "         -5.4469606 ],\n",
       "       [-22.45200231, -25.63487234,  16.07901101,  -2.55280586,\n",
       "          3.33416463],\n",
       "       [  3.49601174,   3.91654091,  -2.55280586,   0.6004852 ,\n",
       "         -0.50052768],\n",
       "       [ -4.72045338,  -5.4469606 ,   3.33416463,  -0.50052768,\n",
       "          0.83482341]])"
      ]
     },
     "execution_count": 448,
     "metadata": {},
     "output_type": "execute_result"
    }
   ],
   "source": [
    "# 逆行列を返す\n",
    "invers = inv(mat)\n",
    "invers"
   ]
  },
  {
   "cell_type": "code",
   "execution_count": 449,
   "metadata": {},
   "outputs": [
    {
     "name": "stdout",
     "output_type": "stream",
     "text": [
      "[[ 1. -0.  0. -0. -0.]\n",
      " [ 0.  1.  0.  0.  0.]\n",
      " [ 0. -0.  1.  0.  0.]\n",
      " [ 0.  0. -0.  1. -0.]\n",
      " [ 0. -0. -0. -0.  1.]]\n"
     ]
    }
   ],
   "source": [
    "# 逆行列か確かめる\n",
    "i_mat = mat.dot(invers)\n",
    "print(np.round(i_mat))\n",
    "# 確かに逆行列を得られている"
   ]
  },
  {
   "cell_type": "code",
   "execution_count": 452,
   "metadata": {},
   "outputs": [
    {
     "name": "stdout",
     "output_type": "stream",
     "text": [
      "[[-0.79722425  0.04307027  0.08327492 -0.08697589 -0.58998214]\n",
      " [ 0.4422955  -0.49984454 -0.01563648  0.30136138 -0.68078407]\n",
      " [-0.40478037 -0.71060481 -0.19302218  0.34681732  0.41671793]\n",
      " [ 0.06265086 -0.32262312 -0.50654382 -0.79466284 -0.06255806]\n",
      " [ 0.0321854  -0.37316955  0.83604819 -0.38709847  0.10433974]] [[-6.42193119  3.43895287 -3.67076766  0.28984025  0.99855388]\n",
      " [ 0.         -2.2933366  -3.65995124 -3.59778785 -2.95008029]\n",
      " [ 0.          0.         -2.03324393 -3.7658992   6.86406411]\n",
      " [ 0.          0.          0.         -3.41808329 -2.513039  ]\n",
      " [ 0.          0.          0.          0.          0.12498421]]\n"
     ]
    }
   ],
   "source": [
    "# QR分解 --> 直交行列Qと上三角行列Rに分解する\n",
    "q, r = qr(mat)\n",
    "print(q, r)"
   ]
  },
  {
   "cell_type": "markdown",
   "metadata": {},
   "source": [
    "### よく使うnumpy.linalgの関数"
   ]
  },
  {
   "cell_type": "code",
   "execution_count": 453,
   "metadata": {},
   "outputs": [
    {
     "data": {
      "text/plain": [
       "array([[0, 1, 2],\n",
       "       [3, 4, 5],\n",
       "       [6, 7, 8]])"
      ]
     },
     "execution_count": 453,
     "metadata": {},
     "output_type": "execute_result"
    }
   ],
   "source": [
    "mat = np.arange(9).reshape(3,3)\n",
    "mat"
   ]
  },
  {
   "cell_type": "code",
   "execution_count": 455,
   "metadata": {},
   "outputs": [
    {
     "data": {
      "text/plain": [
       "array([0, 4, 8])"
      ]
     },
     "execution_count": 455,
     "metadata": {},
     "output_type": "execute_result"
    }
   ],
   "source": [
    "# 対角要素を返す\n",
    "np.diag(mat)"
   ]
  },
  {
   "cell_type": "code",
   "execution_count": 456,
   "metadata": {},
   "outputs": [
    {
     "data": {
      "text/plain": [
       "array([[ 15,  18,  21],\n",
       "       [ 42,  54,  66],\n",
       "       [ 69,  90, 111]])"
      ]
     },
     "execution_count": 456,
     "metadata": {},
     "output_type": "execute_result"
    }
   ],
   "source": [
    "# 内積\n",
    "np.dot(mat,mat)"
   ]
  },
  {
   "cell_type": "code",
   "execution_count": 457,
   "metadata": {},
   "outputs": [
    {
     "data": {
      "text/plain": [
       "12"
      ]
     },
     "execution_count": 457,
     "metadata": {},
     "output_type": "execute_result"
    }
   ],
   "source": [
    "# 対角要素の和 = トレースを返す\n",
    "np.trace(mat)"
   ]
  },
  {
   "cell_type": "code",
   "execution_count": 460,
   "metadata": {},
   "outputs": [
    {
     "data": {
      "text/plain": [
       "0.0"
      ]
     },
     "execution_count": 460,
     "metadata": {},
     "output_type": "execute_result"
    }
   ],
   "source": [
    "# 行列式\n",
    "np.linalg.det(mat) # ０なので正則ではない。逆行列が存在しない"
   ]
  },
  {
   "cell_type": "code",
   "execution_count": null,
   "metadata": {},
   "outputs": [],
   "source": [
    "# 逆行列\n",
    "inv(mat) # これはエラーになる"
   ]
  },
  {
   "cell_type": "code",
   "execution_count": 464,
   "metadata": {},
   "outputs": [
    {
     "data": {
      "text/plain": [
       "array([[-0.55555556, -0.16666667,  0.22222222],\n",
       "       [-0.05555556,  0.        ,  0.05555556],\n",
       "       [ 0.44444444,  0.16666667, -0.11111111]])"
      ]
     },
     "execution_count": 464,
     "metadata": {},
     "output_type": "execute_result"
    }
   ],
   "source": [
    "# 擬似逆行列\n",
    "np.linalg.pinv(mat)"
   ]
  },
  {
   "cell_type": "code",
   "execution_count": 466,
   "metadata": {},
   "outputs": [
    {
     "data": {
      "text/plain": [
       "array([[0., 1., 2.],\n",
       "       [3., 4., 5.],\n",
       "       [6., 7., 8.]])"
      ]
     },
     "execution_count": 466,
     "metadata": {},
     "output_type": "execute_result"
    }
   ],
   "source": [
    "# 擬似逆行列の性質\n",
    "mat @ np.linalg.pinv(mat) @ mat # matに一致する"
   ]
  },
  {
   "cell_type": "code",
   "execution_count": 473,
   "metadata": {},
   "outputs": [
    {
     "name": "stdout",
     "output_type": "stream",
     "text": [
      "[[ 0.          0.91287093  0.40824829]\n",
      " [-0.4472136   0.36514837 -0.81649658]\n",
      " [-0.89442719 -0.18257419  0.40824829]]\n",
      "[[-6.70820393 -8.04984472 -9.39148551]\n",
      " [ 0.          1.09544512  2.19089023]\n",
      " [ 0.          0.         -0.        ]]\n",
      "[[ 1. -0. -0.]\n",
      " [-0.  1. -0.]\n",
      " [-0. -0.  1.]]\n",
      "[[0. 1. 2.]\n",
      " [3. 4. 5.]\n",
      " [6. 7. 8.]]\n"
     ]
    }
   ],
   "source": [
    "# QR分解\n",
    "q, r = qr(mat)\n",
    "print(q)  # 直交行列\n",
    "print(r)  # 上三角行列\n",
    "print(q @ q.T) # 直交行列の性質\n",
    "print(q @ r) # 分解したものをかけると元にもどる"
   ]
  },
  {
   "cell_type": "code",
   "execution_count": 478,
   "metadata": {},
   "outputs": [
    {
     "data": {
      "text/plain": [
       "(array([[-0.13511895,  0.90281571,  0.40824829],\n",
       "        [-0.49633514,  0.29493179, -0.81649658],\n",
       "        [-0.85755134, -0.31295213,  0.40824829]]),\n",
       " array([14.22670739,  1.26522599,  0.        ]),\n",
       " array([[-0.4663281 , -0.57099079, -0.67565348],\n",
       "        [-0.78477477, -0.08545673,  0.61386131],\n",
       "        [-0.40824829,  0.81649658, -0.40824829]]))"
      ]
     },
     "execution_count": 478,
     "metadata": {},
     "output_type": "execute_result"
    }
   ],
   "source": [
    "# 特異値分解\n",
    "np.linalg.svd(mat) # 勉強する"
   ]
  },
  {
   "cell_type": "code",
   "execution_count": 481,
   "metadata": {},
   "outputs": [
    {
     "ename": "LinAlgError",
     "evalue": "Singular matrix",
     "output_type": "error",
     "traceback": [
      "\u001b[0;31m---------------------------------------------------------------------------\u001b[0m",
      "\u001b[0;31mLinAlgError\u001b[0m                               Traceback (most recent call last)",
      "\u001b[0;32m<ipython-input-481-616e59b6711a>\u001b[0m in \u001b[0;36m<module>\u001b[0;34m\u001b[0m\n\u001b[1;32m      1\u001b[0m \u001b[0;31m# 正方行列Aに対してAx=bを解く\u001b[0m\u001b[0;34m\u001b[0m\u001b[0;34m\u001b[0m\u001b[0;34m\u001b[0m\u001b[0m\n\u001b[1;32m      2\u001b[0m \u001b[0mb\u001b[0m \u001b[0;34m=\u001b[0m \u001b[0mnp\u001b[0m\u001b[0;34m.\u001b[0m\u001b[0marray\u001b[0m\u001b[0;34m(\u001b[0m\u001b[0;34m[\u001b[0m\u001b[0;36m2\u001b[0m\u001b[0;34m,\u001b[0m\u001b[0;36m4\u001b[0m\u001b[0;34m,\u001b[0m\u001b[0;36m6\u001b[0m\u001b[0;34m]\u001b[0m\u001b[0;34m)\u001b[0m\u001b[0;34m\u001b[0m\u001b[0;34m\u001b[0m\u001b[0m\n\u001b[0;32m----> 3\u001b[0;31m \u001b[0mnp\u001b[0m\u001b[0;34m.\u001b[0m\u001b[0mlinalg\u001b[0m\u001b[0;34m.\u001b[0m\u001b[0msolve\u001b[0m\u001b[0;34m(\u001b[0m\u001b[0mmat\u001b[0m\u001b[0;34m,\u001b[0m \u001b[0mb\u001b[0m\u001b[0;34m)\u001b[0m\u001b[0;34m\u001b[0m\u001b[0;34m\u001b[0m\u001b[0m\n\u001b[0m",
      "\u001b[0;32m<__array_function__ internals>\u001b[0m in \u001b[0;36msolve\u001b[0;34m(*args, **kwargs)\u001b[0m\n",
      "\u001b[0;32m/opt/anaconda3/lib/python3.7/site-packages/numpy/linalg/linalg.py\u001b[0m in \u001b[0;36msolve\u001b[0;34m(a, b)\u001b[0m\n\u001b[1;32m    401\u001b[0m     \u001b[0msignature\u001b[0m \u001b[0;34m=\u001b[0m \u001b[0;34m'DD->D'\u001b[0m \u001b[0;32mif\u001b[0m \u001b[0misComplexType\u001b[0m\u001b[0;34m(\u001b[0m\u001b[0mt\u001b[0m\u001b[0;34m)\u001b[0m \u001b[0;32melse\u001b[0m \u001b[0;34m'dd->d'\u001b[0m\u001b[0;34m\u001b[0m\u001b[0;34m\u001b[0m\u001b[0m\n\u001b[1;32m    402\u001b[0m     \u001b[0mextobj\u001b[0m \u001b[0;34m=\u001b[0m \u001b[0mget_linalg_error_extobj\u001b[0m\u001b[0;34m(\u001b[0m\u001b[0m_raise_linalgerror_singular\u001b[0m\u001b[0;34m)\u001b[0m\u001b[0;34m\u001b[0m\u001b[0;34m\u001b[0m\u001b[0m\n\u001b[0;32m--> 403\u001b[0;31m     \u001b[0mr\u001b[0m \u001b[0;34m=\u001b[0m \u001b[0mgufunc\u001b[0m\u001b[0;34m(\u001b[0m\u001b[0ma\u001b[0m\u001b[0;34m,\u001b[0m \u001b[0mb\u001b[0m\u001b[0;34m,\u001b[0m \u001b[0msignature\u001b[0m\u001b[0;34m=\u001b[0m\u001b[0msignature\u001b[0m\u001b[0;34m,\u001b[0m \u001b[0mextobj\u001b[0m\u001b[0;34m=\u001b[0m\u001b[0mextobj\u001b[0m\u001b[0;34m)\u001b[0m\u001b[0;34m\u001b[0m\u001b[0;34m\u001b[0m\u001b[0m\n\u001b[0m\u001b[1;32m    404\u001b[0m \u001b[0;34m\u001b[0m\u001b[0m\n\u001b[1;32m    405\u001b[0m     \u001b[0;32mreturn\u001b[0m \u001b[0mwrap\u001b[0m\u001b[0;34m(\u001b[0m\u001b[0mr\u001b[0m\u001b[0;34m.\u001b[0m\u001b[0mastype\u001b[0m\u001b[0;34m(\u001b[0m\u001b[0mresult_t\u001b[0m\u001b[0;34m,\u001b[0m \u001b[0mcopy\u001b[0m\u001b[0;34m=\u001b[0m\u001b[0;32mFalse\u001b[0m\u001b[0;34m)\u001b[0m\u001b[0;34m)\u001b[0m\u001b[0;34m\u001b[0m\u001b[0;34m\u001b[0m\u001b[0m\n",
      "\u001b[0;32m/opt/anaconda3/lib/python3.7/site-packages/numpy/linalg/linalg.py\u001b[0m in \u001b[0;36m_raise_linalgerror_singular\u001b[0;34m(err, flag)\u001b[0m\n\u001b[1;32m     95\u001b[0m \u001b[0;34m\u001b[0m\u001b[0m\n\u001b[1;32m     96\u001b[0m \u001b[0;32mdef\u001b[0m \u001b[0m_raise_linalgerror_singular\u001b[0m\u001b[0;34m(\u001b[0m\u001b[0merr\u001b[0m\u001b[0;34m,\u001b[0m \u001b[0mflag\u001b[0m\u001b[0;34m)\u001b[0m\u001b[0;34m:\u001b[0m\u001b[0;34m\u001b[0m\u001b[0;34m\u001b[0m\u001b[0m\n\u001b[0;32m---> 97\u001b[0;31m     \u001b[0;32mraise\u001b[0m \u001b[0mLinAlgError\u001b[0m\u001b[0;34m(\u001b[0m\u001b[0;34m\"Singular matrix\"\u001b[0m\u001b[0;34m)\u001b[0m\u001b[0;34m\u001b[0m\u001b[0;34m\u001b[0m\u001b[0m\n\u001b[0m\u001b[1;32m     98\u001b[0m \u001b[0;34m\u001b[0m\u001b[0m\n\u001b[1;32m     99\u001b[0m \u001b[0;32mdef\u001b[0m \u001b[0m_raise_linalgerror_nonposdef\u001b[0m\u001b[0;34m(\u001b[0m\u001b[0merr\u001b[0m\u001b[0;34m,\u001b[0m \u001b[0mflag\u001b[0m\u001b[0;34m)\u001b[0m\u001b[0;34m:\u001b[0m\u001b[0;34m\u001b[0m\u001b[0;34m\u001b[0m\u001b[0m\n",
      "\u001b[0;31mLinAlgError\u001b[0m: Singular matrix"
     ]
    }
   ],
   "source": [
    "# 正方行列Aに対してAx=bを解く\n",
    "b = np.array([2,4,6])\n",
    "np.linalg.solve(mat, b) "
   ]
  },
  {
   "cell_type": "code",
   "execution_count": null,
   "metadata": {},
   "outputs": [],
   "source": []
  }
 ],
 "metadata": {
  "kernelspec": {
   "display_name": "Python 3",
   "language": "python",
   "name": "python3"
  },
  "language_info": {
   "codemirror_mode": {
    "name": "ipython",
    "version": 3
   },
   "file_extension": ".py",
   "mimetype": "text/x-python",
   "name": "python",
   "nbconvert_exporter": "python",
   "pygments_lexer": "ipython3",
   "version": "3.7.4"
  }
 },
 "nbformat": 4,
 "nbformat_minor": 4
}
